{
  "cells": [
    {
      "cell_type": "markdown",
      "id": "65642d56-c596-4f2b-9bb1-90e2c403b899",
      "metadata": {
        "id": "65642d56-c596-4f2b-9bb1-90e2c403b899"
      },
      "source": [
        "<a href=\"https://colab.research.google.com/github/amrios80/eda-jobs/blob/master/caoba/caoba_eda.ipynb\" target=\"_parent\"><img src=\"https://colab.research.google.com/assets/colab-badge.svg\" alt=\"Open In Colab\"/></a>"
      ]
    },
    {
      "cell_type": "markdown",
      "id": "5ed0788a-edef-4304-a544-c35aed7bb02c",
      "metadata": {
        "id": "5ed0788a-edef-4304-a544-c35aed7bb02c"
      },
      "source": [
        "# Projecto CAOBA (EDA)\n",
        "\n",
        "MINE-4101: Applied Data Science  \n",
        "Univerisdad de los Andes  \n",
        "  \n",
        "**Datasets:** : (1) Demograficos, (2) Notas\n",
        "\n",
        "\n",
        "**Business Context:** Se requiere conocer que variables mas inciden sobre la desercion academica.\n",
        "\n",
        "**Restricciones:**\n",
        "-"
      ]
    },
    {
      "cell_type": "code",
      "execution_count": 2,
      "id": "fa878881-66df-4d8e-b792-1d65470a8dc5",
      "metadata": {
        "id": "fa878881-66df-4d8e-b792-1d65470a8dc5"
      },
      "outputs": [],
      "source": [
        "import pandas as pd\n",
        "import matplotlib.pyplot as plt\n",
        "import seaborn as sns\n",
        "import numpy as np\n",
        "pd.set_option(\"display.max_columns\", None)\n",
        "pd.set_option(\"display.max_rows\", 100)"
      ]
    },
    {
      "cell_type": "markdown",
      "id": "8877beda-27b4-4c17-9d6b-6328db41ac08",
      "metadata": {
        "id": "8877beda-27b4-4c17-9d6b-6328db41ac08"
      },
      "source": [
        "# **1. ETL**"
      ]
    },
    {
      "cell_type": "markdown",
      "source": [
        "**1.1 Cargue de los datasets:** Los datasets comprimidos se localizan en el repositorio."
      ],
      "metadata": {
        "id": "Fn1oy-ToiEvH"
      },
      "id": "Fn1oy-ToiEvH"
    },
    {
      "cell_type": "code",
      "execution_count": 3,
      "id": "7840e83b-2f32-438f-a8d2-20ef259cf3ac",
      "metadata": {
        "id": "7840e83b-2f32-438f-a8d2-20ef259cf3ac",
        "colab": {
          "base_uri": "https://localhost:8080/"
        },
        "outputId": "68ac27d1-c32d-4e85-90c0-724ccc04f974"
      },
      "outputs": [
        {
          "output_type": "stream",
          "name": "stderr",
          "text": [
            "<ipython-input-3-75dfc31c7cbb>:4: DtypeWarning: Columns (9) have mixed types. Specify dtype option on import or set low_memory=False.\n",
            "  historicos_df=pd.read_csv(historicos_url, sep=\";\", compression=\"gzip\")\n"
          ]
        }
      ],
      "source": [
        "demograficos_url=\"https://github.com/amrios80/eda-jobs/raw/refs/heads/main/caoba/Demograficos.csv.gz\"\n",
        "historicos_url=\"https://github.com/amrios80/eda-jobs/raw/refs/heads/main/caoba/HistoricoNotas.csv.gz\"\n",
        "demograficos_df = pd.read_csv(demograficos_url, sep=\";\", compression='gzip')\n",
        "historicos_df=pd.read_csv(historicos_url, sep=\";\", compression=\"gzip\")"
      ]
    },
    {
      "cell_type": "markdown",
      "source": [
        " **1.2 Revision de dimensiones de los datasets.** Se observa: 55419 filas en demograficos, conteniendo los estados por todos los semestres de cada uno de los estudiantes."
      ],
      "metadata": {
        "id": "fe1iyDS3iknb"
      },
      "id": "fe1iyDS3iknb"
    },
    {
      "cell_type": "code",
      "source": [
        "print(\"dimensiones demo:\",demograficos_df.shape)\n",
        "print(\"dimensiones hist:\", historicos_df.shape)"
      ],
      "metadata": {
        "colab": {
          "base_uri": "https://localhost:8080/"
        },
        "id": "LkOkDDEv2uTf",
        "outputId": "dc80bed5-7e4a-460e-ff24-b37b0fb35bba"
      },
      "id": "LkOkDDEv2uTf",
      "execution_count": 4,
      "outputs": [
        {
          "output_type": "stream",
          "name": "stdout",
          "text": [
            "dimensiones demo: (55419, 33)\n",
            "dimensiones hist: (418031, 12)\n"
          ]
        }
      ]
    },
    {
      "cell_type": "markdown",
      "source": [
        " **1.3 Encontrar el registro del último semestre.** Se encuentran 10201 ultimos semestres correspondientes cada uno a un solo estudiante."
      ],
      "metadata": {
        "id": "p0iBaVieaflS"
      },
      "id": "p0iBaVieaflS"
    },
    {
      "cell_type": "code",
      "source": [
        "def calculate_target(row):\n",
        "    if (row['SITUACION_ACTUAL'] == 'EXCLUIDO NO RENOVACION DE MATRICULA' or row[\"SITUACION_ACTUAL\"]=='RETIRO DEFINITIVO' or row[\"SITUACION_ACTUAL\"]=='EXCLUIDO CANCELACION SEMESTRE' ) and  (row['CATEGORIA_ACTUAL'] != \"CONTINUIDAD ACADEMICA - EGRESADO\") :\n",
        "        return 0\n",
        "    else:\n",
        "        return 1\n",
        "\n",
        "demograficos_df[\"target\"]=demograficos_df.apply(calculate_target, axis=1)\n",
        "df=demograficos_df[ ~ (demograficos_df[\"NIVEL_FORMACION\"]==\"Especialización\") ]\n",
        "\n",
        "idx = df.groupby('CODIGO')['SEMESTRE'].idxmax()\n",
        "max_semester_rows = demograficos_df.loc[idx]\n",
        "\n",
        "df=max_semester_rows\n",
        "df[\"YEARNACIMIENTO\"]=pd.to_datetime(df[\"FECHANACIMIENTO\"])\n",
        "df['YEARNACIMIENTO'] = df['YEARNACIMIENTO'].dt.year\n",
        "field=\"PROMEDIOGENERAL\"\n",
        "df[field] = pd.to_numeric(df[field].str.replace(',', '.'), errors='coerce')\n",
        "field=\"PROMEDIOSEMESTRE\"\n",
        "df[field] = pd.to_numeric(df[field].str.replace(',', '.'), errors='coerce')\n",
        "\n",
        "\n",
        "selected_cols=['PERIODO_ACAENICO', 'CODIGO', 'UNIDAD', 'CODIGOPROGRAMA','PROGRAMA',\n",
        "       'SEMESTRE', 'PROMEDIOSEMESTRE', 'GENERO', 'FECHANACIMIENTO', 'ESTRATO',\n",
        "       'CIUDADRESIDENCIA', 'DEPARTAMENTORESICEDENCIA', 'ESTADOCIVIL',\n",
        "       'PROMEDIOGENERAL', 'SITUACION_ACTUAL', 'CATEGORIA_ACTUAL',\n",
        "       'SITUACION_DEL_PERIODO', 'CATEGORIA_DEL_PERIODO', 'DISCAPACIDAD',\n",
        "       'TIPO_DISCAPACIDAD', 'FECHA_MATRICULA', 'IDCIUDADNACIMIENTO',\n",
        "       'IDDEPARTAMENTONACIMIENTO',\n",
        "       'SISBEN', 'NIVELSISBEN', 'CANTIDAD',\n",
        "       'PERIODO', 'EDAD2', 'EDAD', 'FACULTAD', 'NIVEL_FORMACION','YEARNACIMIENTO','target'\n",
        "       ]\n",
        "\n",
        "df=df[selected_cols]\n",
        "df.to_csv(\"ultimo_semestre.csv\",sep=\";\",index=False)\n",
        "df.shape\n"
      ],
      "metadata": {
        "colab": {
          "base_uri": "https://localhost:8080/"
        },
        "id": "SVe5h0O4mpUU",
        "outputId": "dbfa8d1d-1add-4783-daa6-797c34ce6c4f"
      },
      "id": "SVe5h0O4mpUU",
      "execution_count": 6,
      "outputs": [
        {
          "output_type": "stream",
          "name": "stderr",
          "text": [
            "<ipython-input-6-e048e64af83a>:14: UserWarning: Parsing dates in %d-%m-%Y format when dayfirst=False (the default) was specified. Pass `dayfirst=True` or specify a format to silence this warning.\n",
            "  df[\"YEARNACIMIENTO\"]=pd.to_datetime(df[\"FECHANACIMIENTO\"])\n"
          ]
        },
        {
          "output_type": "execute_result",
          "data": {
            "text/plain": [
              "(10021, 33)"
            ]
          },
          "metadata": {},
          "execution_count": 6
        }
      ]
    },
    {
      "cell_type": "code",
      "source": [
        "df[\"target\"].value_counts()\n"
      ],
      "metadata": {
        "colab": {
          "base_uri": "https://localhost:8080/",
          "height": 198
        },
        "id": "_Y9J5jAGR_cm",
        "outputId": "8708d10f-984a-4164-815f-85efceee3b09"
      },
      "id": "_Y9J5jAGR_cm",
      "execution_count": 7,
      "outputs": [
        {
          "output_type": "execute_result",
          "data": {
            "text/plain": [
              "target\n",
              "1    8770\n",
              "0    1251\n",
              "Name: count, dtype: int64"
            ],
            "text/html": [
              "<div>\n",
              "<style scoped>\n",
              "    .dataframe tbody tr th:only-of-type {\n",
              "        vertical-align: middle;\n",
              "    }\n",
              "\n",
              "    .dataframe tbody tr th {\n",
              "        vertical-align: top;\n",
              "    }\n",
              "\n",
              "    .dataframe thead th {\n",
              "        text-align: right;\n",
              "    }\n",
              "</style>\n",
              "<table border=\"1\" class=\"dataframe\">\n",
              "  <thead>\n",
              "    <tr style=\"text-align: right;\">\n",
              "      <th></th>\n",
              "      <th>count</th>\n",
              "    </tr>\n",
              "    <tr>\n",
              "      <th>target</th>\n",
              "      <th></th>\n",
              "    </tr>\n",
              "  </thead>\n",
              "  <tbody>\n",
              "    <tr>\n",
              "      <th>1</th>\n",
              "      <td>8770</td>\n",
              "    </tr>\n",
              "    <tr>\n",
              "      <th>0</th>\n",
              "      <td>1251</td>\n",
              "    </tr>\n",
              "  </tbody>\n",
              "</table>\n",
              "</div><br><label><b>dtype:</b> int64</label>"
            ]
          },
          "metadata": {},
          "execution_count": 7
        }
      ]
    }
  ],
  "metadata": {
    "kernelspec": {
      "display_name": "Python 3 (ipykernel)",
      "language": "python",
      "name": "python3"
    },
    "language_info": {
      "codemirror_mode": {
        "name": "ipython",
        "version": 3
      },
      "file_extension": ".py",
      "mimetype": "text/x-python",
      "name": "python",
      "nbconvert_exporter": "python",
      "pygments_lexer": "ipython3",
      "version": "3.11.7"
    },
    "colab": {
      "provenance": []
    }
  },
  "nbformat": 4,
  "nbformat_minor": 5
}